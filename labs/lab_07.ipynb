{
 "cells": [
  {
   "cell_type": "code",
   "execution_count": 124,
   "id": "b32973dc",
   "metadata": {},
   "outputs": [
    {
     "data": {
      "image/png": "[encoded data removed]",
      "text/plain": [
       "<Figure size 432x288 with 1 Axes>"
      ]
     },
     "metadata": {
      "needs_background": "light"
     },
     "output_type": "display_data"
    }
   ],
   "source": [
    "import numpy as np\n",
    "import matplotlib.pyplot as plt\n",
    "\n",
    "N0 = 0\n",
    "Y0 = 0\n",
    "A0 = 1000\n",
    "\n",
    "time = 40\n",
    "\n",
    "X0 = np.array([[N0, Y0, A0]]).T\n",
    "K = np.array([ [0, 0, 0.3], [0.9, 0, 0], [0, 0.8, 0.5] ])\n",
    "\n",
    "Z = np.zeros((time+1, 3, 1))\n",
    "Z[0] = X0\n",
    "for i in range(time):\n",
    "    X_now = Z[i]\n",
    "    X_new = np.matmul(K, X_now)\n",
    "    Z[i+1] = X_new\n",
    "\n",
    "N = Z[:, 0, :]\n",
    "Y = Z[:, 1, :]\n",
    "A = Z[:, 2, :]\n",
    "\n",
    "ALL = N + Y + A\n",
    "\n",
    "TIME = np.linspace(0, time, num=time+1).T\n",
    "TIME\n",
    "\n",
    "plt.plot(TIME, N, label='Newborn')\n",
    "plt.plot(TIME, Y, label='Young')\n",
    "plt.plot(TIME, A, label='Adult')\n",
    "plt.plot(TIME, ALL, label='All')\n",
    "plt.legend()\n",
    "plt.grid()"
   ]
  },
  {
   "cell_type": "code",
   "execution_count": 121,
   "id": "2733a1b4",
   "metadata": {},
   "outputs": [
    {
     "data": {
      "text/plain": [
       "array([[0.00000000e+00],\n",
       "       [3.00000000e+02],\n",
       "       [1.50000000e+02],\n",
       "       [7.50000000e+01],\n",
       "       [1.02300000e+02],\n",
       "       [8.35500000e+01],\n",
       "       [5.79750000e+01],\n",
       "       [5.10843000e+01],\n",
       "       [4.35889500e+01],\n",
       "       [3.43170750e+01],\n",
       "       [2.81927463e+01],\n",
       "       [2.35115863e+01],\n",
       "       [1.91682814e+01],\n",
       "       [1.56737739e+01],\n",
       "       [1.29153896e+01],\n",
       "       [1.05980436e+01],\n",
       "       [8.68455695e+00],\n",
       "       [7.13200263e+00],\n",
       "       [5.85517873e+00],\n",
       "       [4.80345366e+00],\n",
       "       [3.94223940e+00],\n",
       "       [3.23583830e+00],\n",
       "       [2.65546514e+00],\n",
       "       [2.17925628e+00],\n",
       "       [1.78856921e+00],\n",
       "       [1.46786508e+00],\n",
       "       [1.20465190e+00],\n",
       "       [9.88656898e-01],\n",
       "       [8.11387306e-01],\n",
       "       [6.65898463e-01],\n",
       "       [5.46499121e-01],\n",
       "       [4.48509219e-01],\n",
       "       [3.68088677e-01],\n",
       "       [3.02088149e-01],\n",
       "       [2.47922066e-01],\n",
       "       [2.03468187e-01],\n",
       "       [1.66985134e-01],\n",
       "       [1.37043733e-01],\n",
       "       [1.12470995e-01],\n",
       "       [9.23042864e-02],\n",
       "       [7.57535895e-02]])"
      ]
     },
     "execution_count": 121,
     "metadata": {},
     "output_type": "execute_result"
    }
   ],
   "source": [
    "N = Z[:,0,:]\n",
    "N"
   ]
  },
  {
   "cell_type": "code",
   "execution_count": 122,
   "id": "16f6da85",
   "metadata": {},
   "outputs": [
    {
     "data": {
      "text/plain": [
       "array([[0.00000000e+00],\n",
       "       [0.00000000e+00],\n",
       "       [2.70000000e+02],\n",
       "       [1.35000000e+02],\n",
       "       [6.75000000e+01],\n",
       "       [9.20700000e+01],\n",
       "       [7.51950000e+01],\n",
       "       [5.21775000e+01],\n",
       "       [4.59758700e+01],\n",
       "       [3.92300550e+01],\n",
       "       [3.08853675e+01],\n",
       "       [2.53734717e+01],\n",
       "       [2.11604277e+01],\n",
       "       [1.72514532e+01],\n",
       "       [1.41063965e+01],\n",
       "       [1.16238506e+01],\n",
       "       [9.53823922e+00],\n",
       "       [7.81610125e+00],\n",
       "       [6.41880236e+00],\n",
       "       [5.26966085e+00],\n",
       "       [4.32310830e+00],\n",
       "       [3.54801546e+00],\n",
       "       [2.91225447e+00],\n",
       "       [2.38991863e+00],\n",
       "       [1.96133065e+00],\n",
       "       [1.60971229e+00],\n",
       "       [1.32107857e+00],\n",
       "       [1.08418671e+00],\n",
       "       [8.89791209e-01],\n",
       "       [7.30248575e-01],\n",
       "       [5.99308616e-01],\n",
       "       [4.91849209e-01],\n",
       "       [4.03658297e-01],\n",
       "       [3.31279810e-01],\n",
       "       [2.71879334e-01],\n",
       "       [2.23129859e-01],\n",
       "       [1.83121368e-01],\n",
       "       [1.50286620e-01],\n",
       "       [1.23339360e-01],\n",
       "       [1.01223895e-01],\n",
       "       [8.30738577e-02]])"
      ]
     },
     "execution_count": 122,
     "metadata": {},
     "output_type": "execute_result"
    }
   ],
   "source": [
    "Y = Z[:, 1, :]\n",
    "Y"
   ]
  },
  {
   "cell_type": "code",
   "execution_count": 123,
   "id": "2e2d07cf",
   "metadata": {},
   "outputs": [
    {
     "data": {
      "text/plain": [
       "array([[1.00000000e+03],\n",
       "       [5.00000000e+02],\n",
       "       [2.50000000e+02],\n",
       "       [3.41000000e+02],\n",
       "       [2.78500000e+02],\n",
       "       [1.93250000e+02],\n",
       "       [1.70281000e+02],\n",
       "       [1.45296500e+02],\n",
       "       [1.14390250e+02],\n",
       "       [9.39758210e+01],\n",
       "       [7.83719545e+01],\n",
       "       [6.38942713e+01],\n",
       "       [5.22459130e+01],\n",
       "       [4.30512987e+01],\n",
       "       [3.53268119e+01],\n",
       "       [2.89485232e+01],\n",
       "       [2.37733421e+01],\n",
       "       [1.95172624e+01],\n",
       "       [1.60115122e+01],\n",
       "       [1.31407980e+01],\n",
       "       [1.07861277e+01],\n",
       "       [8.85155048e+00],\n",
       "       [7.26418761e+00],\n",
       "       [5.96189738e+00],\n",
       "       [4.89288359e+00],\n",
       "       [4.01550632e+00],\n",
       "       [3.29552299e+00],\n",
       "       [2.70462435e+00],\n",
       "       [2.21966154e+00],\n",
       "       [1.82166374e+00],\n",
       "       [1.49503073e+00],\n",
       "       [1.22696226e+00],\n",
       "       [1.00696050e+00],\n",
       "       [8.26406886e-01],\n",
       "       [6.78227290e-01],\n",
       "       [5.56617112e-01],\n",
       "       [4.56812444e-01],\n",
       "       [3.74903316e-01],\n",
       "       [3.07680955e-01],\n",
       "       [2.52511965e-01],\n",
       "       [2.07235099e-01]])"
      ]
     },
     "execution_count": 123,
     "metadata": {},
     "output_type": "execute_result"
    }
   ],
   "source": [
    "A = Z[:, 2, :]\n",
    "A"
   ]
  },
  {
   "cell_type": "code",
   "execution_count": 106,
   "id": "6789944b",
   "metadata": {},
   "outputs": [
    {
     "data": {
      "text/plain": [
       "<matplotlib.legend.Legend at 0x10a6e27c0>"
      ]
     },
     "execution_count": 106,
     "metadata": {},
     "output_type": "execute_result"
    },
    {
     "data": {
      "image/png": "[encoded data removed]",
      "text/plain": [
       "<Figure size 432x288 with 1 Axes>"
      ]
     },
     "metadata": {
      "needs_background": "light"
     },
     "output_type": "display_data"
    }
   ],
   "source": [
    "TIME = np.linspace(0, time, num=time+1).T\n",
    "TIME\n",
    "\n",
    "plt.plot(TIME, N, label='Newborn')\n",
    "plt.plot(TIME, Y, label='Young')\n",
    "plt.plot(TIME, A, label='Adult')\n",
    "plt.legend()"
   ]
  },
  {
   "cell_type": "code",
   "execution_count": 107,
   "id": "85c630d2",
   "metadata": {},
   "outputs": [
    {
     "data": {
      "text/plain": [
       "array([[   0],\n",
       "       [   0],\n",
       "       [1000]])"
      ]
     },
     "execution_count": 107,
     "metadata": {},
     "output_type": "execute_result"
    }
   ],
   "source": [
    "X0"
   ]
  },
  {
   "cell_type": "code",
   "execution_count": null,
   "id": "1d3b86fe",
   "metadata": {},
   "outputs": [],
   "source": []
  },
  {
   "cell_type": "code",
   "execution_count": 108,
   "id": "a75bbf17",
   "metadata": {},
   "outputs": [
    {
     "data": {
      "text/plain": [
       "array([[0. , 0. , 0.3],\n",
       "       [0.9, 0. , 0. ],\n",
       "       [0. , 0.8, 0.5]])"
      ]
     },
     "execution_count": 108,
     "metadata": {},
     "output_type": "execute_result"
    }
   ],
   "source": [
    "K"
   ]
  },
  {
   "cell_type": "code",
   "execution_count": 109,
   "id": "1adcffb7",
   "metadata": {},
   "outputs": [],
   "source": [
    "X1 = np.matmul(K, X0)"
   ]
  },
  {
   "cell_type": "code",
   "execution_count": 110,
   "id": "09d22f47",
   "metadata": {},
   "outputs": [
    {
     "data": {
      "text/plain": [
       "array([[300.],\n",
       "       [  0.],\n",
       "       [500.]])"
      ]
     },
     "execution_count": 110,
     "metadata": {},
     "output_type": "execute_result"
    }
   ],
   "source": [
    "X1"
   ]
  },
  {
   "cell_type": "code",
   "execution_count": 111,
   "id": "d33c3427",
   "metadata": {},
   "outputs": [],
   "source": [
    "X2 = np.matmul(K, X1)"
   ]
  },
  {
   "cell_type": "code",
   "execution_count": 112,
   "id": "0f2a8054",
   "metadata": {},
   "outputs": [
    {
     "data": {
      "text/plain": [
       "array([[150.],\n",
       "       [270.],\n",
       "       [250.]])"
      ]
     },
     "execution_count": 112,
     "metadata": {},
     "output_type": "execute_result"
    }
   ],
   "source": [
    "X2"
   ]
  },
  {
   "cell_type": "code",
   "execution_count": 113,
   "id": "cd96d2f0",
   "metadata": {},
   "outputs": [],
   "source": [
    "X3 = np.matmul(K, X2)"
   ]
  },
  {
   "cell_type": "code",
   "execution_count": 114,
   "id": "ba569f4f",
   "metadata": {},
   "outputs": [
    {
     "data": {
      "text/plain": [
       "array([[ 75.],\n",
       "       [135.],\n",
       "       [341.]])"
      ]
     },
     "execution_count": 114,
     "metadata": {},
     "output_type": "execute_result"
    }
   ],
   "source": [
    "X3"
   ]
  },
  {
   "cell_type": "code",
   "execution_count": 115,
   "id": "9fadaa11",
   "metadata": {},
   "outputs": [],
   "source": [
    "Z = np.zeros((10,3,1))"
   ]
  },
  {
   "cell_type": "code",
   "execution_count": 116,
   "id": "a076a371",
   "metadata": {},
   "outputs": [
    {
     "data": {
      "text/plain": [
       "array([[[0.],\n",
       "        [0.],\n",
       "        [0.]],\n",
       "\n",
       "       [[0.],\n",
       "        [0.],\n",
       "        [0.]],\n",
       "\n",
       "       [[0.],\n",
       "        [0.],\n",
       "        [0.]],\n",
       "\n",
       "       [[0.],\n",
       "        [0.],\n",
       "        [0.]],\n",
       "\n",
       "       [[0.],\n",
       "        [0.],\n",
       "        [0.]],\n",
       "\n",
       "       [[0.],\n",
       "        [0.],\n",
       "        [0.]],\n",
       "\n",
       "       [[0.],\n",
       "        [0.],\n",
       "        [0.]],\n",
       "\n",
       "       [[0.],\n",
       "        [0.],\n",
       "        [0.]],\n",
       "\n",
       "       [[0.],\n",
       "        [0.],\n",
       "        [0.]],\n",
       "\n",
       "       [[0.],\n",
       "        [0.],\n",
       "        [0.]]])"
      ]
     },
     "execution_count": 116,
     "metadata": {},
     "output_type": "execute_result"
    }
   ],
   "source": [
    "Z"
   ]
  },
  {
   "cell_type": "code",
   "execution_count": 117,
   "id": "f90da65d",
   "metadata": {},
   "outputs": [],
   "source": [
    "Z[0] = X0"
   ]
  },
  {
   "cell_type": "code",
   "execution_count": 118,
   "id": "47a07e4b",
   "metadata": {},
   "outputs": [
    {
     "data": {
      "text/plain": [
       "array([[[   0.],\n",
       "        [   0.],\n",
       "        [1000.]],\n",
       "\n",
       "       [[   0.],\n",
       "        [   0.],\n",
       "        [   0.]],\n",
       "\n",
       "       [[   0.],\n",
       "        [   0.],\n",
       "        [   0.]],\n",
       "\n",
       "       [[   0.],\n",
       "        [   0.],\n",
       "        [   0.]],\n",
       "\n",
       "       [[   0.],\n",
       "        [   0.],\n",
       "        [   0.]],\n",
       "\n",
       "       [[   0.],\n",
       "        [   0.],\n",
       "        [   0.]],\n",
       "\n",
       "       [[   0.],\n",
       "        [   0.],\n",
       "        [   0.]],\n",
       "\n",
       "       [[   0.],\n",
       "        [   0.],\n",
       "        [   0.]],\n",
       "\n",
       "       [[   0.],\n",
       "        [   0.],\n",
       "        [   0.]],\n",
       "\n",
       "       [[   0.],\n",
       "        [   0.],\n",
       "        [   0.]]])"
      ]
     },
     "execution_count": 118,
     "metadata": {},
     "output_type": "execute_result"
    }
   ],
   "source": [
    "Z"
   ]
  },
  {
   "cell_type": "code",
   "execution_count": 119,
   "id": "5d805ccf",
   "metadata": {},
   "outputs": [
    {
     "data": {
      "text/plain": [
       "array([[[   0.      ],\n",
       "        [   0.      ],\n",
       "        [1000.      ]],\n",
       "\n",
       "       [[ 300.      ],\n",
       "        [   0.      ],\n",
       "        [ 500.      ]],\n",
       "\n",
       "       [[ 150.      ],\n",
       "        [ 270.      ],\n",
       "        [ 250.      ]],\n",
       "\n",
       "       [[  75.      ],\n",
       "        [ 135.      ],\n",
       "        [ 341.      ]],\n",
       "\n",
       "       [[ 102.3     ],\n",
       "        [  67.5     ],\n",
       "        [ 278.5     ]],\n",
       "\n",
       "       [[  83.55    ],\n",
       "        [  92.07    ],\n",
       "        [ 193.25    ]],\n",
       "\n",
       "       [[  57.975   ],\n",
       "        [  75.195   ],\n",
       "        [ 170.281   ]],\n",
       "\n",
       "       [[  51.0843  ],\n",
       "        [  52.1775  ],\n",
       "        [ 145.2965  ]],\n",
       "\n",
       "       [[  43.58895 ],\n",
       "        [  45.97587 ],\n",
       "        [ 114.39025 ]],\n",
       "\n",
       "       [[  34.317075],\n",
       "        [  39.230055],\n",
       "        [  93.975821]]])"
      ]
     },
     "execution_count": 119,
     "metadata": {},
     "output_type": "execute_result"
    }
   ],
   "source": [
    "time = 9\n",
    "for i in range(time):\n",
    "    X_now = Z[i]\n",
    "    X_new = np.matmul(K, X_now)\n",
    "    Z[i+1] = X_new\n",
    "Z"
   ]
  },
  {
   "cell_type": "code",
   "execution_count": null,
   "id": "62a92b46",
   "metadata": {},
   "outputs": [],
   "source": []
  }
 ],
 "metadata": {
  "kernelspec": {
   "display_name": "Python 3 (ipykernel)",
   "language": "python",
   "name": "python3"
  },
  "language_info": {
   "codemirror_mode": {
    "name": "ipython",
    "version": 3
   },
   "file_extension": ".py",
   "mimetype": "text/x-python",
   "name": "python",
   "nbconvert_exporter": "python",
   "pygments_lexer": "ipython3",
   "version": "3.9.9"
  }
 },
 "nbformat": 4,
 "nbformat_minor": 5
}
