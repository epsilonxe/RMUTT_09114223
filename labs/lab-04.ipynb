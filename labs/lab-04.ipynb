{
 "cells": [
  {
   "cell_type": "markdown",
   "id": "a79f7c84",
   "metadata": {},
   "source": [
    "# Ice Cream Parlor\n",
    "\n",
    "<img src=\"./lab-04-01.webp\" width=\"40%\">\n",
    "\n",
    "คนขายไอศกรีมในงานฤดูร้อนต้องการคาดคะเนว่าจํานวนไอศกรีมที่ขายได้ต่อ\n",
    "วันควรจะเช่นไร เขามีสมมติฐานว่า\n",
    "- จํานวนไอศกรีมที่ขายได้ต่อวันแปรผันตรงกับจํานวนคนที่มาเที่ยวงาน \n",
    "- จํานวนไอศกรีมที่ขายได้ต่อวันแปรผันตรงกับอุณหภูมิที่เพิ่มขึ้นจาก $10^{\\circ}C$ \n",
    "- จํานวนไอศกรีมที่ขายได้ต่อวันแปรผกผันกับราคาขายของไอศกรีม\n",
    "\n",
    "จงนำเสนอแบบจำลองทางคณิตศาสตร์เพื่อแก้ปัญหานี้ พร้อมทั้งทำการจำลองสถานการเชิงตัวเลขเพื่อทดสอบแบบจำลองดังกล่าว"
   ]
  },
  {
   "cell_type": "code",
   "execution_count": null,
   "id": "ff5a4f5f",
   "metadata": {},
   "outputs": [],
   "source": []
  }
 ],
 "metadata": {
  "kernelspec": {
   "display_name": "Python 3 (ipykernel)",
   "language": "python",
   "name": "python3"
  },
  "language_info": {
   "codemirror_mode": {
    "name": "ipython",
    "version": 3
   },
   "file_extension": ".py",
   "mimetype": "text/x-python",
   "name": "python",
   "nbconvert_exporter": "python",
   "pygments_lexer": "ipython3",
   "version": "3.11.0"
  }
 },
 "nbformat": 4,
 "nbformat_minor": 5
}
