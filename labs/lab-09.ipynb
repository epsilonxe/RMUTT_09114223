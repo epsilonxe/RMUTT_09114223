{
 "cells": [
  {
   "cell_type": "markdown",
   "id": "a79f7c84",
   "metadata": {},
   "source": [
    "# Discrete SIR Models\n",
    "\n",
    "เกิดโรคระบาดขึ้นในประเทศแห่งหนึ่ง ทําให้ผู้บริหารของประเทศต้องการประมาณยอดผู้ติดเชื้อรายวัน จงหาแบบจําลองทางคณิตศาสตร์อย่างง่าย และประมาณการแพร่ระบาดของโรคที่สอดคล้องกับสมมติฐานต่อไปนี้\n",
    "\n",
    "- โรคนี้สามารถรักษาให้หายได้ และไม่ทําให้ผู้ป่วยถึงแก่ความตาย\n",
    "- ผู้ป่วยที่รักษาหายแล้วจะมีภูมิคุ้มกันอยู่ช่วงระยะเวลาหนึ่ง\n"
   ]
  },
  {
   "cell_type": "markdown",
   "id": "3b8bbb8d",
   "metadata": {},
   "source": [
    "## 1\n",
    "ถ้าจำนวนประชากรของประเทศนี้เป็นค่าคงตัว จงเสนอแบบจำลองทางคณิตศาสตร์ดีสครีตในรูปสมการผลต่างเพื่อใช้ในการพยากรณ์การแพร่ระบาด\n"
   ]
  },
  {
   "cell_type": "markdown",
   "id": "208f2372",
   "metadata": {},
   "source": [
    "\n",
    "**(อ้างอิงตัวอย่าง 4.23)**\n",
    "\n",
    "\\begin{align}\n",
    "S_{n+1} & = S_{n} - \\beta S_nI_n + \\delta R_n, \\\\\n",
    "I_{n+1} & = I_{n} + \\beta S_nI_n - \\gamma I_n, \\\\\n",
    "R_{n+1} & = R_{n} + \\gamma I_n - \\delta R_n\n",
    "\\end{align}\n",
    "\n",
    "และ $S_n + I_n + R_n = N \\in \\mathbb{R}$"
   ]
  },
  {
   "cell_type": "markdown",
   "id": "7ddf5b3a",
   "metadata": {},
   "source": [
    "-------------------\n",
    "\n",
    "## 2\n",
    "\n",
    "ถ้าประชากรของประเทศนี้คือ 1,000,000 คน และโรคนี้มีการแพร่ระบาดเริ่มต้นในวันที่ 31 ธันวาคม พ.ศ. 2565 ข้อมูลของการแพร่ระบาดของโรค เป็นดังนี้\n",
    "\n",
    "| วันที่            | จำนวนคนติดเชื้อ | จำนวนคนที่รักษาหาย|\n",
    "|:----------------|-------------:|-----------------:|\n",
    "| 31 ธันวาคม 2565 | 120         | 0               |\n",
    "| 1 กุมภาพันธ์ 2566 | 10,962       | 572              |\n",
    "\n",
    "จงใช้แบบจำลองทางคณิตศาสตร์พยากรณ์จำนวนคนติดเชื้อในวันที่ 1 มีนาคม พ.ศ. 2566"
   ]
  },
  {
   "cell_type": "code",
   "execution_count": 1,
   "id": "8acc028d",
   "metadata": {},
   "outputs": [
    {
     "name": "stdout",
     "output_type": "stream",
     "text": [
      "[[ 9.99880000e+005  1.20000000e+002  0.00000000e+000]\n",
      " [ 7.59908800e+005  2.40090000e+005  1.20000000e+000]\n",
      " [-3.64133099e+008  3.65130697e+008  2.40207000e+003]\n",
      " [ 2.65911980e+014 -2.65911983e+014  3.65364899e+006]\n",
      " [ 1.41418364e+026 -1.41418364e+026 -2.65911626e+012]\n",
      " [ 3.99983071e+049 -3.99983071e+049 -1.41418364e+024]\n",
      " [ 3.19972914e+096 -3.19972914e+096 -3.99983071e+047]\n",
      " [ 2.04765332e+190 -2.04765332e+190 -3.19972914e+094]\n",
      " [             inf             -inf -2.04765332e+188]\n",
      " [             inf              nan             -inf]\n",
      " [             nan              nan              nan]\n",
      " [             nan              nan              nan]\n",
      " [             nan              nan              nan]\n",
      " [             nan              nan              nan]\n",
      " [             nan              nan              nan]\n",
      " [             nan              nan              nan]\n",
      " [             nan              nan              nan]\n",
      " [             nan              nan              nan]\n",
      " [             nan              nan              nan]\n",
      " [             nan              nan              nan]\n",
      " [             nan              nan              nan]\n",
      " [             nan              nan              nan]\n",
      " [             nan              nan              nan]\n",
      " [             nan              nan              nan]\n",
      " [             nan              nan              nan]\n",
      " [             nan              nan              nan]\n",
      " [             nan              nan              nan]\n",
      " [             nan              nan              nan]\n",
      " [             nan              nan              nan]\n",
      " [             nan              nan              nan]\n",
      " [             nan              nan              nan]\n",
      " [             nan              nan              nan]\n",
      " [             nan              nan              nan]\n",
      " [             nan              nan              nan]\n",
      " [             nan              nan              nan]\n",
      " [             nan              nan              nan]\n",
      " [             nan              nan              nan]\n",
      " [             nan              nan              nan]\n",
      " [             nan              nan              nan]\n",
      " [             nan              nan              nan]\n",
      " [             nan              nan              nan]\n",
      " [             nan              nan              nan]\n",
      " [             nan              nan              nan]\n",
      " [             nan              nan              nan]\n",
      " [             nan              nan              nan]]\n"
     ]
    },
    {
     "name": "stderr",
     "output_type": "stream",
     "text": [
      "/var/folders/s6/_txqypnx6gx7hb9c75ryw2bw0000gn/T/ipykernel_26368/1810293990.py:25: RuntimeWarning: overflow encountered in double_scalars\n",
      "  new_S = now_S - beta*now_S*now_I + delta*now_R\n",
      "/var/folders/s6/_txqypnx6gx7hb9c75ryw2bw0000gn/T/ipykernel_26368/1810293990.py:26: RuntimeWarning: overflow encountered in double_scalars\n",
      "  new_I = now_I + beta*now_S*now_I - gamma*now_I\n",
      "/var/folders/s6/_txqypnx6gx7hb9c75ryw2bw0000gn/T/ipykernel_26368/1810293990.py:26: RuntimeWarning: invalid value encountered in double_scalars\n",
      "  new_I = now_I + beta*now_S*now_I - gamma*now_I\n"
     ]
    }
   ],
   "source": [
    "import numpy as np\n",
    "import matplotlib.pyplot as plt\n",
    "\n",
    "N = 1_000_000\n",
    "R_0 = 0\n",
    "I_0 = 120\n",
    "S_0 = N - I_0 - R_0\n",
    "x_0 = np.array([S_0, I_0, R_0])\n",
    "\n",
    "days = 45\n",
    "n = np.arange(0, days)\n",
    "x = np.zeros((days, 3), dtype=np.float64)\n",
    "x[0,:] = x_0.reshape(1,3)\n",
    "\n",
    "beta = 0.002\n",
    "gamma = 0.01\n",
    "delta = 0.025\n",
    "\n",
    "for k in range(1, days):\n",
    "    now_x = x[k-1,:]\n",
    "    now_S = now_x[0]\n",
    "    now_I = now_x[1]\n",
    "    now_R = now_x[2]\n",
    "    \n",
    "    new_S = now_S - beta*now_S*now_I + delta*now_R\n",
    "    new_I = now_I + beta*now_S*now_I - gamma*now_I\n",
    "    new_R = now_R + gamma*now_I - delta*now_R\n",
    "    \n",
    "    new_x = np.array([new_S, new_I, new_R])\n",
    "    x[k,:] = new_x.reshape(1,3)\n",
    "\n",
    "with np.printoptions(precision=8, suppress=True):\n",
    "    print(x)\n"
   ]
  },
  {
   "cell_type": "code",
   "execution_count": 2,
   "id": "30b8056e",
   "metadata": {},
   "outputs": [],
   "source": [
    "def update_with_bound(value, lower, upper):\n",
    "    if value > upper:\n",
    "        return upper\n",
    "    elif value < lower:\n",
    "        return lower\n",
    "    else:\n",
    "        return value"
   ]
  },
  {
   "cell_type": "code",
   "execution_count": 3,
   "id": "8c11f483",
   "metadata": {
    "scrolled": false
   },
   "outputs": [
    {
     "name": "stdout",
     "output_type": "stream",
     "text": [
      "[[999880.       120.         0.   ]\n",
      " [999832.006    166.794      1.2  ]\n",
      " [999765.329    231.833      2.838]\n",
      " [999672.689    322.226      5.085]\n",
      " [999543.968    447.852      8.18 ]\n",
      " [999365.113    622.432     12.454]\n",
      " [999116.61     865.023     18.367]\n",
      " [998771.366   1202.076     26.558]\n",
      " [998291.79    1670.295     37.915]\n",
      " [997625.762   2320.568     53.67 ]\n",
      " [996701.08    3223.386     75.534]\n",
      " [995417.867   4476.253    105.88 ]\n",
      " [993638.217   6213.787    147.995]\n",
      " [991172.215   8621.352    206.433]\n",
      " [987759.278  11953.236    287.486]\n",
      " [983043.697  16556.472    399.831]\n",
      " [976543.398  22901.202    555.4  ]\n",
      " [967611.676  31617.796    770.527]\n",
      " [955393.44   43539.118   1067.442]\n",
      " [938781.331  59742.522   1476.147]\n",
      " [916384.169  81579.163   2036.669]\n",
      " [886531.944 110666.512   2801.544]\n",
      " [847358.224 148803.606   3838.17 ]\n",
      " [797018.194 197751.554   5230.252]\n",
      " [734104.316 258818.673   7077.011]\n",
      " [658281.279 332230.448   9488.273]\n",
      " [571038.052 416388.578  12573.37 ]\n",
      " [476242.898 507334.181  16422.922]\n",
      " [380007.75  598906.559  21085.69 ]\n",
      " [289499.239 683953.147  26547.614]\n",
      " [210961.363 756315.182  32723.455]\n",
      " [147958.137 812573.343  39468.52 ]\n",
      " [100854.115 852538.344  46607.541]\n",
      " [ 67626.503 878405.761  53967.736]\n",
      " [ 45214.293 893383.107  61402.6  ]\n",
      " [ 30591.884 900606.75   68801.366]\n",
      " [ 21291.415 902621.186  76087.399]\n",
      " [ 15506.367 901282.207  83211.426]\n",
      " [ 11996.408 897859.63   90143.963]\n",
      " [  9941.571 893189.469  96868.96 ]\n",
      " [  8811.412 887809.457 103379.131]\n",
      " [  8266.748 882060.505 109672.747]\n",
      " [  8091.858 876156.609 115751.533]\n",
      " [  8149.752 870230.936 121619.311]\n",
      " [  8353.369 864365.494 127281.138]]\n"
     ]
    },
    {
     "data": {
      "image/png": "[encoded data removed]",
      "text/plain": [
       "<Figure size 640x480 with 1 Axes>"
      ]
     },
     "metadata": {},
     "output_type": "display_data"
    }
   ],
   "source": [
    "N = 1_000_000\n",
    "R_0 = 0\n",
    "I_0 = 120\n",
    "S_0 = N - I_0 - R_0\n",
    "x_0 = np.array([S_0, I_0, R_0])\n",
    "\n",
    "days = 45\n",
    "n = np.arange(0, days)\n",
    "x = np.zeros((days, 3), dtype=np.float64)\n",
    "x[0,:] = x_0.reshape(1,3)\n",
    "\n",
    "beta = 4e-7\n",
    "gamma = 0.01\n",
    "delta = 0.025\n",
    "\n",
    "for k in range(1, days):\n",
    "    now_x = x[k-1,:]\n",
    "    now_S = now_x[0]\n",
    "    now_I = now_x[1]\n",
    "    now_R = now_x[2]\n",
    "    \n",
    "    new_S = now_S - beta*now_S*now_I + delta*now_R\n",
    "    new_S = update_with_bound(new_S, 0, N)\n",
    "    \n",
    "    new_I = now_I + beta*now_S*now_I - gamma*now_I\n",
    "    new_I = update_with_bound(new_I, 0, N)\n",
    "    \n",
    "    new_R = N - (new_S + new_I)\n",
    "    \n",
    "    new_x = np.array([new_S, new_I, new_R])\n",
    "    x[k,:] = new_x.reshape(1,3)\n",
    "\n",
    "with np.printoptions(precision=3, suppress=True):\n",
    "    print(x)\n",
    "    \n",
    "S = x[:,0]\n",
    "I = x[:,1]\n",
    "R = x[:,2]\n",
    "\n",
    "plt.plot(n, S, label='Susceptuble');\n",
    "plt.plot(n, I, label='Infected');\n",
    "plt.plot(n, R, label='Recovered');\n",
    "plt.grid();\n",
    "plt.xlabel('Day');\n",
    "plt.ylabel('Population');"
   ]
  },
  {
   "cell_type": "code",
   "execution_count": 4,
   "id": "2416c888",
   "metadata": {},
   "outputs": [
    {
     "name": "stdout",
     "output_type": "stream",
     "text": [
      "[Real-Data] I at 1st Feb: 10962\n",
      "[Model-Data] I at 1st Feb: 852538.3444880453\n"
     ]
    },
    {
     "data": {
      "image/png": "[encoded data removed]",
      "text/plain": [
       "<Figure size 640x480 with 1 Axes>"
      ]
     },
     "metadata": {},
     "output_type": "display_data"
    }
   ],
   "source": [
    "N = 1_000_000\n",
    "R_0 = 0\n",
    "I_0 = 120\n",
    "S_0 = N - I_0 - R_0\n",
    "x_0 = np.array([S_0, I_0, R_0])\n",
    "\n",
    "days = 45\n",
    "n = np.arange(0, days)\n",
    "x = np.zeros((days, 3), dtype=np.float64)\n",
    "x[0,:] = x_0.reshape(1,3)\n",
    "\n",
    "beta = 4e-7\n",
    "gamma = 0.01\n",
    "delta = 0.025\n",
    "\n",
    "for k in range(1, days):\n",
    "    now_x = x[k-1,:]\n",
    "    now_S = now_x[0]\n",
    "    now_I = now_x[1]\n",
    "    now_R = now_x[2]\n",
    "    \n",
    "    new_S = now_S - beta*now_S*now_I + delta*now_R\n",
    "    new_S = update_with_bound(new_S, 0, N)\n",
    "    \n",
    "    new_I = now_I + beta*now_S*now_I - gamma*now_I\n",
    "    new_I = update_with_bound(new_I, 0, N)\n",
    "    \n",
    "    new_R = N - (new_S + new_I)\n",
    "    \n",
    "    new_x = np.array([new_S, new_I, new_R])\n",
    "    x[k,:] = new_x.reshape(1,3)\n",
    "\n",
    "# with np.printoptions(precision=3, suppress=True):\n",
    "#     print(x)\n",
    "    \n",
    "S = x[:,0]\n",
    "I = x[:,1]\n",
    "R = x[:,2]\n",
    "\n",
    "# plt.plot(n, S, label='Susceptuble');\n",
    "plt.plot(n, I, label='Infected');\n",
    "# plt.plot(n, R, label='Recovered');\n",
    "plt.plot([32], [10962], marker='x');\n",
    "plt.grid();\n",
    "plt.xlabel('Day');\n",
    "plt.ylabel('Population');\n",
    "plt.legend()\n",
    "# plt.yscale('log')\n",
    "\n",
    "\n",
    "real_I_feb1 = 10962\n",
    "print(f'[Real-Data] I at 1st Feb: {real_I_feb1}')\n",
    "print(f'[Model-Data] I at 1st Feb: {I[32]}')"
   ]
  },
  {
   "cell_type": "code",
   "execution_count": 5,
   "id": "aa64a0fb",
   "metadata": {},
   "outputs": [],
   "source": [
    "def show_solution(days, beta, gamma, delta):\n",
    "    N = 1_000_000\n",
    "    R_0 = 0\n",
    "    I_0 = 120\n",
    "    S_0 = N - I_0 - R_0\n",
    "    x_0 = np.array([S_0, I_0, R_0])\n",
    "\n",
    "    n = np.arange(0, days)\n",
    "    x = np.zeros((days, 3), dtype=np.float64)\n",
    "    x[0,:] = x_0.reshape(1,3)\n",
    "\n",
    "    for k in range(1, days):\n",
    "        now_x = x[k-1,:]\n",
    "        now_S = now_x[0]\n",
    "        now_I = now_x[1]\n",
    "        now_R = now_x[2]\n",
    "\n",
    "        new_S = now_S - beta*now_S*now_I + delta*now_R\n",
    "        new_S = update_with_bound(new_S, 0, N)\n",
    "\n",
    "        new_I = now_I + beta*now_S*now_I - gamma*now_I\n",
    "        new_I = update_with_bound(new_I, 0, N)\n",
    "\n",
    "        new_R = N - (new_S + new_I)\n",
    "\n",
    "        new_x = np.array([new_S, new_I, new_R])\n",
    "        x[k,:] = new_x.reshape(1,3)\n",
    "\n",
    "    S = x[:,0]\n",
    "    I = x[:,1]\n",
    "    R = x[:,2]\n",
    "\n",
    "    plt.plot(n, S, label='Susceptuble');\n",
    "    plt.plot(n, I, label='Infected');\n",
    "    plt.plot(n, R, label='Recovered');\n",
    "    plt.plot([32], [10962], marker='x');\n",
    "    plt.grid();\n",
    "    plt.xlabel('Day');\n",
    "    plt.ylabel('Population');\n",
    "    plt.legend()\n",
    "    # plt.yscale('log')\n",
    "\n",
    "    real_I_feb1 = 10962\n",
    "    model_I_feb1 = I[32]\n",
    "    err = abs(real_I_feb1 - model_I_feb1)\n",
    "    errp = 100 * err/real_I_feb1\n",
    "    \n",
    "    print(f'[Real-Data]  I at 1st Feb: {real_I_feb1}')\n",
    "    print(f'[Model-Data] I at 1st Feb: {model_I_feb1:.3f}')\n",
    "    print(f'Error = {err:.3f}  ({errp:.3f}%)')\n",
    "    \n",
    "    real_R_feb1 = 572\n",
    "    model_R_feb1 = R[32]\n",
    "    err = abs(real_R_feb1 - model_R_feb1)\n",
    "    errp = 100 * err/real_R_feb1\n",
    "    \n",
    "    print(f'[Real-Data]  R at 1st Feb: {real_R_feb1}')\n",
    "    print(f'[Model-Data] R at 1st Feb: {model_R_feb1:.3f}')\n",
    "    print(f'Error = {err:.3f}  ({errp:.3f}%)')\n",
    "    \n",
    "    print('-'*50)\n",
    "    print('Prediction:')\n",
    "    I_mar1 = I[31+28+1]\n",
    "    print(f'I at 1st Mar is {I_mar1:.2f}')\n",
    "    print('-'*50)"
   ]
  },
  {
   "cell_type": "code",
   "execution_count": 6,
   "id": "cd239509",
   "metadata": {},
   "outputs": [],
   "source": [
    "import ipywidgets as widgets\n",
    "\n",
    "\n",
    "wdays = widgets.Dropdown(options=[90, 180, 250, 365, 500, 730],\n",
    "                        description='days')\n",
    "wbeta = widgets.FloatSlider(min=1e-8,\n",
    "                    max=9e-7,\n",
    "                    step=1e-9,\n",
    "                    readout_format='.8f',\n",
    "                    description='beta')\n",
    "wgamma = widgets.FloatSlider(min=0.0001,\n",
    "                    max=0.01,\n",
    "                    step=0.0001,\n",
    "                    readout_format='.4f',\n",
    "                    description='gamma')\n",
    "wdelta = widgets.FloatSlider(min=0.0001,\n",
    "                    max=0.0999,\n",
    "                    step=0.0001,\n",
    "                    readout_format='.4f',\n",
    "                    description='delta')"
   ]
  },
  {
   "cell_type": "code",
   "execution_count": 7,
   "id": "6fde12c3",
   "metadata": {
    "scrolled": false
   },
   "outputs": [
    {
     "data": {
      "application/vnd.jupyter.widget-view+json": {
       "model_id": "56e2c47e22e24134abb182452ef5f8dd",
       "version_major": 2,
       "version_minor": 0
      },
      "text/plain": [
       "interactive(children=(Dropdown(description='days', options=(90, 180, 250, 365, 500, 730), value=90), FloatSlid…"
      ]
     },
     "metadata": {},
     "output_type": "display_data"
    }
   ],
   "source": [
    "widgets.interact(show_solution, \n",
    "                 days=wdays, \n",
    "                 beta=wbeta, \n",
    "                 gamma=wgamma, \n",
    "                 delta=wdelta\n",
    "                );"
   ]
  },
  {
   "cell_type": "markdown",
   "id": "8a6bf80b",
   "metadata": {},
   "source": [
    "--------------------\n",
    "\n",
    "## 3\n",
    "\n",
    "ถ้าในวันที่ 1 กุมภาพันธ์ พ.ศ. 2565 ผู้บริหารประเทศดำเนินมาตรการเว้นระยะห่างทางสัมคม (Social Distancing) ทำให้ต่อมาข้อมูลของการแพร่ระบาด เป็นดังนี้\n",
    "\n",
    "|วันที่             | จำนวนคนติดเชื้อ  | จำนวนคนที่รักษาหาย  |\n",
    "|:---------------|--------------:|-----------------:|\n",
    "|1 กุมภาพันธ์ 2566 | 10,962        | 572              |\n",
    "|1 มีนาคม 2566   | 150,998        | 11,957             |\n",
    "\n",
    "จงพยากรณ์จำนวนคนติดเชื้อในวันที่ 1 เมษายน พ.ศ. 2566 "
   ]
  },
  {
   "cell_type": "code",
   "execution_count": null,
   "id": "e65678f2",
   "metadata": {},
   "outputs": [],
   "source": [
    "\n",
    "\n",
    "\n",
    "\n"
   ]
  },
  {
   "cell_type": "markdown",
   "id": "5670f88c",
   "metadata": {},
   "source": [
    "--------------"
   ]
  }
 ],
 "metadata": {
  "kernelspec": {
   "display_name": "Python 3 (ipykernel)",
   "language": "python",
   "name": "python3"
  },
  "language_info": {
   "codemirror_mode": {
    "name": "ipython",
    "version": 3
   },
   "file_extension": ".py",
   "mimetype": "text/x-python",
   "name": "python",
   "nbconvert_exporter": "python",
   "pygments_lexer": "ipython3",
   "version": "3.10.6"
  }
 },
 "nbformat": 4,
 "nbformat_minor": 5
}
