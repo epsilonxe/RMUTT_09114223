{
 "cells": [
  {
   "cell_type": "markdown",
   "id": "5fa49257",
   "metadata": {},
   "source": [
    "# Product Packaging\n",
    "\n",
    "### ปัญหา\n",
    "\n",
    "ผู้ผลิตน้ําอัดลมกระป๋อง มีความประสงค์ให้ผู้บริโภคใช้ดื่มได้พอดีในหนึ่งครั้ง รูปร่างของกระป๋องควรจะเป็นอย่างไรจึงจะเหมาะสม และจะทําอย่างไรที่จะให้ค่าใช้จ่ายในการผลิตกระป๋องตํ่าที่สุด โดยมีเงื่อนไขว่า \n",
    "- วัสดุที่ใช้ทําฝาด้านบนมีราคาสูงกว่าวัสดุที่ทําด้านข้างและก้นกระป๋อง \n",
    "- ราคาวัสดุที่ใช้ทํากระป๋องเป็นค่าคงที่ \n",
    "\n",
    "จงนําเสนอแบบจําลองทางคณิตศาสตร์ เพื่อแก้ไขปัญหานี้"
   ]
  },
  {
   "cell_type": "markdown",
   "id": "ef6fdc1a",
   "metadata": {},
   "source": [
    "### กระป๋องน้ำอัดลมทรงกระบอก\n",
    "\n",
    "<img src=\"./lab-03-01.png\" width=\"20%\">\n",
    "\n",
    "#### Assumptions\n",
    "- กระป๋องน้ำอัดลมเป็นทรงกระบอก\n",
    "- วัสดุที่ใช้ทําฝาด้านบนมีราคาสูงกว่าวัสดุที่ทําด้านข้างและก้นกระป๋อง\n",
    "- ราคาวัสดุที่ใช้ทํากระป๋องเป็นค่าคงที่\n",
    "\n",
    "#### Input\n",
    "- ปริมาตรของเครื่องดื่ม: $V$ (ลูกบาศก์เซ็นติเมตร)\n",
    "\n",
    "#### Output\n",
    "- ราคาวัสดุที่ใช้ในการทำกระป๋อง: $P$ (บาท)\n",
    "\n",
    "#### Parameters:\n",
    "- รัศมีของกระป๋องน้ำอัดลมทรงกระบอก: $r$ (เซ็นติเมตร)\n",
    "- ความสูงของกระป๋องน้ำอัดลมทรงกระบอก: $h$ (เซ็นติเมตร)\n",
    "- ราคาวัสดุที่ไม่ใช่ด้านบนของกระป๋อง: $k_1$ (บาท/ตารางเซ็นติเมตร)\n",
    "- ราคาวัสดุด้านบนของกระป๋อง: $k_2$ (บาท/ตารางเซ็นติเมตร) โดยที่ $k_2 > k_1$\n",
    "\n",
    "\n",
    "### แบบจำลองทางคณิตศาสตร์\n",
    "\n",
    "กำหนดให้ $V > 0$ หาค่า $r,h \\in \\mathbb{R_+}$ ที่ทำให้\n",
    "\n",
    "$$ V = \\pi  r^2 h $$\n",
    "\n",
    "โดยที่\n",
    "\n",
    "$$ P =  2k_1\\pi r h + k_1\\pi r^2 + k_2\\pi r^2$$\n",
    "มีค่าต่ำที่สุด\n",
    "\n"
   ]
  },
  {
   "cell_type": "code",
   "execution_count": 1,
   "id": "5b4d9ad6",
   "metadata": {},
   "outputs": [],
   "source": [
    "from math import pi\n",
    "\n",
    "\n",
    "# Input\n",
    "V = 330\n",
    "\n",
    "# Parameters\n",
    "r = 6\n",
    "h = V/(pi * r**2)\n",
    "k_1 = 0.0025\n",
    "k_2 = 0.0050\n",
    "\n",
    "# Output\n",
    "P = 2*k_1*pi*r*h + k_1*pi*r**2 + k_2*pi*r**2"
   ]
  },
  {
   "cell_type": "code",
   "execution_count": 2,
   "id": "bbf3991d",
   "metadata": {},
   "outputs": [
    {
     "data": {
      "text/plain": [
       "1.1232300164692441"
      ]
     },
     "execution_count": 2,
     "metadata": {},
     "output_type": "execute_result"
    }
   ],
   "source": [
    "P"
   ]
  },
  {
   "cell_type": "code",
   "execution_count": 3,
   "id": "bae225f4",
   "metadata": {},
   "outputs": [],
   "source": [
    "def report(V, r, k_1, k_2):\n",
    "    h = V/(pi * r**2)\n",
    "    P = 2*k_1*pi*r*h + k_1*pi*r**2 + k_2*pi*r**2\n",
    "    print('กระป๋องน้ำอัดลมทรงกระบอก')\n",
    "    print(f'ความจุของกระป๋อง: {V:.2f} ลูกบาศก์เซ็นติเมตร')\n",
    "    print(f'รัศมีของกระป๋อง: {r:.2f} เซ็นติเมตร')\n",
    "    print(f'ความสูงของกระป๋อง: {h:.2f} เซ็นติเมตร')\n",
    "    print(f'ราคาวัสดุ: {k_1} บาท/ตารางเซ็นติเมตร และ {k_2} บาท/ตารางเซ็นติเมตร')\n",
    "    print(f'ต้นทุนกระป๋อง: {P:.2f} บาท')"
   ]
  },
  {
   "cell_type": "code",
   "execution_count": 4,
   "id": "231885de",
   "metadata": {},
   "outputs": [
    {
     "name": "stdout",
     "output_type": "stream",
     "text": [
      "กระป๋องน้ำอัดลมทรงกระบอก\n",
      "ความจุของกระป๋อง: 330.00 ลูกบาศก์เซ็นติเมตร\n",
      "รัศมีของกระป๋อง: 6.00 เซ็นติเมตร\n",
      "ความสูงของกระป๋อง: 2.92 เซ็นติเมตร\n",
      "ราคาวัสดุ: 0.0025 บาท/ตารางเซ็นติเมตร และ 0.005 บาท/ตารางเซ็นติเมตร\n",
      "ต้นทุนกระป๋อง: 1.12 บาท\n"
     ]
    }
   ],
   "source": [
    "report(330, 6, 0.0025, 0.005)"
   ]
  },
  {
   "cell_type": "code",
   "execution_count": 5,
   "id": "77ed689e",
   "metadata": {},
   "outputs": [
    {
     "name": "stdout",
     "output_type": "stream",
     "text": [
      "กระป๋องน้ำอัดลมทรงกระบอก\n",
      "ความจุของกระป๋อง: 330.00 ลูกบาศก์เซ็นติเมตร\n",
      "รัศมีของกระป๋อง: 1.00 เซ็นติเมตร\n",
      "ความสูงของกระป๋อง: 105.04 เซ็นติเมตร\n",
      "ราคาวัสดุ: 0.0025 บาท/ตารางเซ็นติเมตร และ 0.005 บาท/ตารางเซ็นติเมตร\n",
      "ต้นทุนกระป๋อง: 1.67 บาท\n"
     ]
    }
   ],
   "source": [
    "report(330, 1, 0.0025, 0.005)"
   ]
  },
  {
   "cell_type": "code",
   "execution_count": 6,
   "id": "4fdbaae1",
   "metadata": {},
   "outputs": [],
   "source": [
    "from ipywidgets import interact, fixed"
   ]
  },
  {
   "cell_type": "code",
   "execution_count": 8,
   "id": "e7c34028",
   "metadata": {},
   "outputs": [
    {
     "data": {
      "application/vnd.jupyter.widget-view+json": {
       "model_id": "71b5b61ff1114c95b1a3f72f204e87dc",
       "version_major": 2,
       "version_minor": 0
      },
      "text/plain": [
       "interactive(children=(IntSlider(value=330, description='V', max=990, min=-330), IntSlider(value=6, description…"
      ]
     },
     "metadata": {},
     "output_type": "display_data"
    }
   ],
   "source": [
    "interact(report, V=330, r=6, k_1=0.0025, k_2=0.005);"
   ]
  },
  {
   "cell_type": "code",
   "execution_count": null,
   "id": "c378e5ef",
   "metadata": {},
   "outputs": [],
   "source": [
    "interact(report, V=330, r=6, k_1=fixed(0.0025), k_2=fixed(0.005));"
   ]
  },
  {
   "cell_type": "code",
   "execution_count": null,
   "id": "392ffd76",
   "metadata": {},
   "outputs": [],
   "source": [
    "interact(report, V=330, r=(0, 15), k_1=fixed(0.0025), k_2=fixed(0.005));"
   ]
  },
  {
   "cell_type": "code",
   "execution_count": null,
   "id": "bc03c654",
   "metadata": {},
   "outputs": [],
   "source": [
    "interact(report, V=330, r=(0.05, 15, 0.25), k_1=fixed(0.0025), k_2=fixed(0.005));"
   ]
  },
  {
   "cell_type": "code",
   "execution_count": 9,
   "id": "35e038ba",
   "metadata": {},
   "outputs": [
    {
     "data": {
      "application/vnd.jupyter.widget-view+json": {
       "model_id": "731870e303ca47c09355a8e3cbf5e877",
       "version_major": 2,
       "version_minor": 0
      },
      "text/plain": [
       "interactive(children=(IntSlider(value=330, description='V', max=990, min=-330), FloatSlider(value=7.3, descrip…"
      ]
     },
     "metadata": {},
     "output_type": "display_data"
    }
   ],
   "source": [
    "interact(report, V=330, r=(0.05, 15, 0.25), k_1=fixed(0.0025), k_2=fixed(0.005));"
   ]
  },
  {
   "cell_type": "code",
   "execution_count": 10,
   "id": "772c2b51",
   "metadata": {},
   "outputs": [],
   "source": [
    "import numpy as np\n",
    "import matplotlib.pyplot as plt\n",
    "\n",
    "def showplot(V, r, k_1, k_2):\n",
    "    x = np.linspace(0.025, r, 100)\n",
    "    h = V/(pi * x**2)\n",
    "    y = 2*k_1*pi*x*h + k_1*pi*x**2 + k_2*pi*x**2\n",
    "    plt.plot(x, y)\n",
    "    plt.grid()\n",
    "    plt.xlabel('Radius (cm)')\n",
    "    plt.ylabel('Price (THB)') "
   ]
  },
  {
   "cell_type": "code",
   "execution_count": 11,
   "id": "e71b3f00",
   "metadata": {},
   "outputs": [
    {
     "data": {
      "application/vnd.jupyter.widget-view+json": {
       "model_id": "9f724a11da234ec1a844023b1da7281a",
       "version_major": 2,
       "version_minor": 0
      },
      "text/plain": [
       "interactive(children=(IntSlider(value=330, description='V', max=990, min=-330), FloatSlider(value=7.3, descrip…"
      ]
     },
     "metadata": {},
     "output_type": "display_data"
    }
   ],
   "source": [
    "interact(showplot, V=330, r=(0.05, 15, 0.25), k_1=fixed(0.0025), k_2=fixed(0.005));"
   ]
  },
  {
   "cell_type": "code",
   "execution_count": null,
   "id": "c6a4f81e-faf9-455e-b982-d6bfc16f823e",
   "metadata": {},
   "outputs": [],
   "source": []
  }
 ],
 "metadata": {
  "kernelspec": {
   "display_name": "Python 3 (ipykernel)",
   "language": "python",
   "name": "python3"
  },
  "language_info": {
   "codemirror_mode": {
    "name": "ipython",
    "version": 3
   },
   "file_extension": ".py",
   "mimetype": "text/x-python",
   "name": "python",
   "nbconvert_exporter": "python",
   "pygments_lexer": "ipython3",
   "version": "3.12.0"
  }
 },
 "nbformat": 4,
 "nbformat_minor": 5
}
