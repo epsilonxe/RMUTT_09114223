{
 "cells": [
  {
   "cell_type": "markdown",
   "id": "bfb61dc5",
   "metadata": {},
   "source": [
    "# Lottery Model\n",
    "\n",
    "อ้างอิงจากตัวอย่าง 2.1 จากเอกสารประกอบการสอน\n",
    "\n",
    "##  Question\n",
    "เราต้องขายสลากจำนวนกี่ใบจึงจะได้กำไร \n",
    "\n",
    "## Mathematical Question\n",
    "กำหนดให้ $r,d, c_1, c_2, \\ldots, c_k \\in \\mathbb{R}_+$ และ $k \\in \\mathbb{N}$ จงหา $n \\in \\mathbb{N}$ ที่ทำให้ $$ p = rn - (\\sum_{i=1}^{k} c_i + d) > 0 $$ โดยที่ $k \\leq n$\n",
    "\n",
    "\n",
    "เมื่อตัวแปรแต่ละตัว คือ \n",
    "\n",
    "<img src=\"./lab-01-02.png\" width=\"50%\" height=\"auto\">\n",
    "\n",
    "\n",
    "<img src=\"./lab-01-01.png\" width=\"50%\" height=auto>\n",
    "\n",
    "\n",
    "## Solution\n",
    "\n",
    "เราจะได้กำไรเมื่อ\n",
    "$$ n > \\dfrac{1}{r}\\left( \\sum_{i=1}^{k} c_i + d   \\right) $$\n"
   ]
  },
  {
   "cell_type": "code",
   "execution_count": null,
   "id": "c875dbc1",
   "metadata": {},
   "outputs": [],
   "source": [
    "\n",
    "\n",
    "\n",
    "\n",
    "\n"
   ]
  }
 ],
 "metadata": {
  "kernelspec": {
   "display_name": "Python 3 (ipykernel)",
   "language": "python",
   "name": "python3"
  },
  "language_info": {
   "codemirror_mode": {
    "name": "ipython",
    "version": 3
   },
   "file_extension": ".py",
   "mimetype": "text/x-python",
   "name": "python",
   "nbconvert_exporter": "python",
   "pygments_lexer": "ipython3",
   "version": "3.11.0"
  }
 },
 "nbformat": 4,
 "nbformat_minor": 5
}
