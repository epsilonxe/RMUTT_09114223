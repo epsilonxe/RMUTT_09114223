{
 "cells": [
  {
   "cell_type": "markdown",
   "id": "a79f7c84",
   "metadata": {},
   "source": [
    "# Time of Death Estimation\n",
    "**(อ้างอิงตัวอย่าง 5.7)**\n",
    "ในที่เกิดเหตุฆาตกรรมแห่งหนึ่ง เจ้าหน้าที่พบศพผู้เสียชีวิตจำนวนหนึ่งศพในเวลา 8.00 น. และได้ทำการวัดอุณหภูมิร่างผู้เสียชีวิตได้ $22.5\\,^\\circ\\mathrm{C}$ จากนั้นอีก 1 ชั่วโมงได้ทำการวัดอุณหภูมิร่างผู้เสียชีวิตอีกครั้งได้ $22.2\\,^\\circ\\mathrm{C}$ จงประมาณเวลาที่เกิดเหตุฆาตกรรม ถ้ากำหนดให้อุณหภูมิในที่เกิดเหตุคือ $25\\,^\\circ\\mathrm{C}$ คงที่ตลอดเวลา และอุณหภูมิปกติของร่างกายมนุษย์ปกติคือ $35.9 - 37.6\\,^\\circ\\mathrm{C}$ "
   ]
  },
  {
   "cell_type": "code",
   "execution_count": null,
   "id": "3ebc9d59-4686-41cc-a5ab-7669c3e66217",
   "metadata": {},
   "outputs": [],
   "source": []
  },
  {
   "cell_type": "code",
   "execution_count": null,
   "id": "129b6cfd-e2dd-4c4d-a777-162a6ccdb6c6",
   "metadata": {},
   "outputs": [],
   "source": []
  }
 ],
 "metadata": {
  "kernelspec": {
   "display_name": "Python 3 (ipykernel)",
   "language": "python",
   "name": "python3"
  },
  "language_info": {
   "codemirror_mode": {
    "name": "ipython",
    "version": 3
   },
   "file_extension": ".py",
   "mimetype": "text/x-python",
   "name": "python",
   "nbconvert_exporter": "python",
   "pygments_lexer": "ipython3",
   "version": "3.12.0"
  }
 },
 "nbformat": 4,
 "nbformat_minor": 5
}
