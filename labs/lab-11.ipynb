{
 "cells": [
  {
   "cell_type": "markdown",
   "id": "a79f7c84",
   "metadata": {},
   "source": [
    "# Growth of Bacteria\n",
    "**(อ้างอิงตัวอย่าง 5.1)**\n",
    "กำหนดให้ $y$ แทนปริมาณของแบคทีเรียชนิดหนึ่งที่มีอยู่ในจานเลี้ยงเชื้อ แบคทีเรียชนิดนี้มีอัตราการเปลี่ยนแปลงของ ณ เวลาใด ๆ แปรผันตรงกับค่าของปริมาณของแบคทีเรียที่มีอยู่ ณ เวลานั้น ถ้ากำหนดให้เงื่อนไขค่าเริ่มต้นของปริมาณแบคทีเรียในจานเลี้ยงเชื้อ คือ $y(0) = y_0 > 0$ \n",
    "เราสามารถเขียนแบบจำลองทางคณิตศาสตร์อธิบายถึงการเปลี่ยนแปลงของ $y$ ได้ ดังสมการเชิงอนุพันธ์ต่อไปนี้ \n",
    "$$ \\dfrac{\\mathrm{d}y}{\\mathrm{d}t} = ky $$\n",
    "เมื่อ $k$ เป็นจำนวนจริงใด ๆ \n",
    "\n",
    "ผลเฉลยของสมการเชิงอนุพันธ์นี้ คือ  \n",
    "$$ y(t) = y_0\\exp(kt) $$"
   ]
  },
  {
   "cell_type": "markdown",
   "id": "fd8aee13-121b-4a55-ae24-52e9b725efb4",
   "metadata": {},
   "source": [
    "# One parameter: $k$\n",
    "\n",
    "\n",
    "\n"
   ]
  },
  {
   "cell_type": "code",
   "execution_count": null,
   "id": "c02f2db8-8020-41ef-aba9-267691721bd4",
   "metadata": {},
   "outputs": [],
   "source": []
  },
  {
   "cell_type": "markdown",
   "id": "63fc39ba-4925-4f3a-9aa1-13c9a9c2fd64",
   "metadata": {},
   "source": [
    "# Two parameters: $k_1, k_2$ \n",
    "การหาค่า $k$ นั้นเราจำเป็นที่ต้องทราบข้อมูลจริงของปริมาณแบคทีเรีย ณ เวลาที่ต่างกันอย่างน้อย 2 จุดเวลา เช่น เราอาจจะทราบว่า $y(t_1) = y_1 > 0$ และ $y(t_2) = y_2 > 0$ เมื่อเราแทนค่าสองเงื่อนไขนี้ลงในผลเฉลยจะได้ว่า\n",
    "\n",
    "\\begin{align*}\n",
    "y_1 = y_0\\exp(kt_1),\\\\\n",
    "y_2 = y_0\\exp(kt_2)  \n",
    "\\end{align*}\n",
    "\n",
    "และเมื่อนำสมการทั้งสองมาหารกันจะได้\n",
    "\n",
    "$$ \\dfrac{y_1}{y_2} = \\exp(k(t_1-t_2)) $$\n",
    "นั่นคือ\n",
    "$$ k = \\dfrac{1}{(t_1-t_2)}\\ln\\left( \\dfrac{y_1}{y_2} \\right) $$   \n"
   ]
  },
  {
   "cell_type": "code",
   "execution_count": null,
   "id": "e65678f2",
   "metadata": {},
   "outputs": [],
   "source": [
    "\n",
    "\n",
    "\n",
    "\n"
   ]
  },
  {
   "cell_type": "markdown",
   "id": "5670f88c",
   "metadata": {},
   "source": [
    "--------------"
   ]
  }
 ],
 "metadata": {
  "kernelspec": {
   "display_name": "Python 3 (ipykernel)",
   "language": "python",
   "name": "python3"
  },
  "language_info": {
   "codemirror_mode": {
    "name": "ipython",
    "version": 3
   },
   "file_extension": ".py",
   "mimetype": "text/x-python",
   "name": "python",
   "nbconvert_exporter": "python",
   "pygments_lexer": "ipython3",
   "version": "3.12.0"
  }
 },
 "nbformat": 4,
 "nbformat_minor": 5
}
