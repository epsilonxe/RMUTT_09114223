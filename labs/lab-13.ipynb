{
 "cells": [
  {
   "cell_type": "markdown",
   "id": "a79f7c84",
   "metadata": {},
   "source": [
    "# Predator-Prey Models\n",
    "**(อ้างอิงตัวอย่าง 5.15)**\n",
    "ระบบนิเวศแห่งหนึ่งประกอบไปด้วยผู้ล่า (Predetor) และ เหยื่อ (Prey) จำนวนของผู้ล่าและเหยื่อนั้นสัมพันธ์กันกล่าวคือ ถ้าผู้ล่ามีจำนวนมากก็จำทำให้เหยื่อมีจำนวนลดลง และถ้าเหยื่อมีจำนวนลดลงมาก ผู้ล่าก็จะขาดอาหารและมีจำนวนลดลงเช่นกัน และอาจทำให้ทั้งผู้ล่าและเหยื่อต่างสูญพันธ์ุทั้งสองฝ่าย\n",
    "\n",
    "ถ้าเรากำหนดให้ $x$ แทน จำนวนของของเหยื่อ และ $y$ แทนจำนวนของผู้ล่าในระบบนิเวศนี้ เราสามารถเขียนอัตราการเปลี่ยนแปลงของทั้งจำนวนผู้ล่าและเหยื่อได้ คือ\n",
    "\\begin{equation}\n",
    "\\label{eq:lotka-volterra}\n",
    "\\begin{aligned}\n",
    "\\dfrac{\\mathrm{d}x}{\\mathrm{d}t} &=  \\alpha x - \\beta xy \\\\\n",
    "\\dfrac{\\mathrm{d}y}{\\mathrm{d}t} &=  \\delta xy - \\gamma y\n",
    "\\end{aligned}     \n",
    "\\end{equation}\n",
    "เมื่อพารามิเตอร์ $\\alpha$ คือ อัตราการเกิดของเหยื่อภายใต้สมมติฐานที่ว่าพวกมันสามารถเพิ่มจำนวนประชากรได้ในอัตรายกกำลัง (Exponential Growth) และไม่ลดจำนวนลงนอกจากจะถูกกินโดยผู้ล่าเท่านั้น, $\\beta$ คือ อัตราการบริโภคของผู้ล่าเพื่อพบเจอกับเหยื่อ, $\\delta$ คือ อัตราการเพิ่มจำนวนประชาการของผู้ล่าซึ่งขึ้นอยู่กับทั้งปริมาณของผู้ล่าเองและปริมาณของเหยื่อที่มีในขณะนั้น (ซึ่งไม่จำเป็นต่อเท่ากับ $\\beta$) และ $\\gamma$ คือ อัตราการลดลงของปริมาณผู้ล่า (ตายตามธรรมชาติหรือการย้ายถิ่น)"
   ]
  },
  {
   "cell_type": "markdown",
   "id": "5670f88c",
   "metadata": {},
   "source": [
    "--------------"
   ]
  }
 ],
 "metadata": {
  "kernelspec": {
   "display_name": "Python 3 (ipykernel)",
   "language": "python",
   "name": "python3"
  },
  "language_info": {
   "codemirror_mode": {
    "name": "ipython",
    "version": 3
   },
   "file_extension": ".py",
   "mimetype": "text/x-python",
   "name": "python",
   "nbconvert_exporter": "python",
   "pygments_lexer": "ipython3",
   "version": "3.12.0"
  }
 },
 "nbformat": 4,
 "nbformat_minor": 5
}
