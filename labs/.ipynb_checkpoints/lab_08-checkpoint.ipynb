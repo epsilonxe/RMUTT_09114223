{
 "cells": [
  {
   "cell_type": "code",
   "execution_count": 6,
   "id": "73b8a398",
   "metadata": {},
   "outputs": [
    {
     "data": {
      "image/png": "[encoded data removed]",
      "text/plain": [
       "<Figure size 432x288 with 1 Axes>"
      ]
     },
     "metadata": {
      "needs_background": "light"
     },
     "output_type": "display_data"
    }
   ],
   "source": [
    "import numpy as np\n",
    "import matplotlib.pyplot as plt\n",
    "\n",
    "A0 = 10000\n",
    "B0 = 5000\n",
    "\n",
    "time = 6\n",
    "\n",
    "X0 = np.array([[A0, B0]]).T\n",
    "K = np.array([[1, -0.15],[-0.1, 1]])\n",
    "\n",
    "Z= np.zeros((time+1, 2, 1))\n",
    "Z[0]=X0\n",
    "\n",
    "for i in range(time):\n",
    "    x_now = Z[i]\n",
    "    x_new = np.matmul(K, x_now)\n",
    "    Z[i+1] = x_new\n",
    "    \n",
    "A = Z[:, 0, :]\n",
    "B = Z[:, 1, :]\n",
    "\n",
    "TIME = np.linspace(0, time, num=time+1).T\n",
    "TIME\n",
    "\n",
    "plt.plot(TIME, A,  label='A')\n",
    "plt.plot(TIME, B,  label='B')\n",
    "plt.legend()\n",
    "plt.grid()"
   ]
  },
  {
   "cell_type": "code",
   "execution_count": 7,
   "id": "cf120f5e",
   "metadata": {},
   "outputs": [
    {
     "data": {
      "text/plain": [
       "array([0., 1., 2., 3., 4., 5., 6.])"
      ]
     },
     "execution_count": 7,
     "metadata": {},
     "output_type": "execute_result"
    }
   ],
   "source": [
    "TIME"
   ]
  },
  {
   "cell_type": "code",
   "execution_count": 8,
   "id": "3b7211d1",
   "metadata": {},
   "outputs": [
    {
     "data": {
      "text/plain": [
       "array([[5000.      ],\n",
       "       [4000.      ],\n",
       "       [3075.      ],\n",
       "       [2210.      ],\n",
       "       [1391.125   ],\n",
       "       [ 605.4     ],\n",
       "       [-159.458125]])"
      ]
     },
     "execution_count": 8,
     "metadata": {},
     "output_type": "execute_result"
    }
   ],
   "source": [
    "B"
   ]
  },
  {
   "cell_type": "code",
   "execution_count": null,
   "id": "862b9fea",
   "metadata": {},
   "outputs": [],
   "source": []
  }
 ],
 "metadata": {
  "kernelspec": {
   "display_name": "Python 3 (ipykernel)",
   "language": "python",
   "name": "python3"
  },
  "language_info": {
   "codemirror_mode": {
    "name": "ipython",
    "version": 3
   },
   "file_extension": ".py",
   "mimetype": "text/x-python",
   "name": "python",
   "nbconvert_exporter": "python",
   "pygments_lexer": "ipython3",
   "version": "3.9.9"
  }
 },
 "nbformat": 4,
 "nbformat_minor": 5
}
