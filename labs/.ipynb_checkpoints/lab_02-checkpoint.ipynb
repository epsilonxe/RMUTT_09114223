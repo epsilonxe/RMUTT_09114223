{
 "cells": [
  {
   "cell_type": "markdown",
   "id": "c2b89333",
   "metadata": {},
   "source": [
    "# Evacuation Model \n",
    "\n",
    "แบบจำลองการอพยพผู้ประสบภัย\n",
    "\n",
    "อ้างอิงจากเอกสารประกอบการสอน บทที่ 2 ตัวอย่างที่ 2.2\n",
    "\n",
    "\n",
    "\n",
    "## Question\n",
    "\n",
    "เวลาทั้งหมดที่ใช้ในการขนย้ายผู้คนออกจากตึกคือเท่าไร\n",
    "\n",
    "\n",
    "## Mathematical Problem\n",
    "\n",
    "กำหนดให้ $t,t_0,d,v\\in\\mathbb{R}_+, n_0,p \\in \\mathbb{N}$, $n: \\mathbb{R}_+ \\to \\mathbb{N}$ และ $m: \\mathbb{R}_+ \\to \\mathbb{N}$ จงหา $T = t_0 + \\min(t^*)$ เมื่อ\n",
    "\n",
    "$$\n",
    "\t\t\\begin{aligned}\n",
    "\t\t\\label{ex: fire site}\n",
    "\t\tn(t) &= n_0 - m(t) \\\\\n",
    "\t\tm(t) &= \\left\\lfloor{\\left(\\frac{d}{v}\\right)pt}\\right\\rfloor\t\n",
    "\t\t\\end{aligned}\n",
    "$$\n",
    "       \n",
    "\n",
    "<img src=\"lab-02-02.png\" width=\"50%\">\n",
    "<table>\n",
    "<tr> <td><img src=\"lab-02-03.png\" width=\"80%\"></td> <td><img src=\"lab-02-01.png\" width=\"80%\"></td> </tr>\n",
    "</table>\n",
    "\n",
    "\n",
    "## Solution\n",
    "\n",
    "$t^*$ คือ ผลเฉลยของสมการ\n",
    "\n",
    "$$ n(t^*) = n_0 - \\left\\lfloor \\left(\\frac{d}{v}\\right)pt^* \\right\\rfloor = 0$$\n",
    "\n",
    "จะได้ว่า\n",
    "\n",
    "$$ t^* =  \\left\\lceil \\frac{n_0 v}{dp} \\right\\rceil $$"
   ]
  },
  {
   "cell_type": "code",
   "execution_count": null,
   "id": "f147c440",
   "metadata": {},
   "outputs": [],
   "source": [
    "# จำนวนผู้ประสบภัย ณ จุดเริ้มต้น (คน)\n",
    "n0 = 25\n",
    "\n",
    "# ระยะทางจากจุดประสบภัยถึงจุดปลอดภัย (เมตร)\n",
    "d = 850\n",
    "\n",
    "# ความเร็วในการเคลื่อนย้าย (เมตร/วินาที)\n",
    "v = 1.42\n",
    "\n",
    "# ความสามารถในการเคลื่อนย้ายผู้ประสบภัย (คน/วินาที^2)\n",
    "p = 0.00001\n",
    "\n",
    "# เวลาที่สูญเสียไปก่อนเริ่มการอพยพ\n",
    "t0 = 0\n",
    "\n",
    "# เวลาที่ใช้ในการอพยพทั้งหมด\n",
    "tstar = \n",
    "T = t0 + tstar"
   ]
  },
  {
   "cell_type": "code",
   "execution_count": null,
   "id": "df98485e",
   "metadata": {},
   "outputs": [],
   "source": []
  }
 ],
 "metadata": {
  "kernelspec": {
   "display_name": "Python 3 (ipykernel)",
   "language": "python",
   "name": "python3"
  },
  "language_info": {
   "codemirror_mode": {
    "name": "ipython",
    "version": 3
   },
   "file_extension": ".py",
   "mimetype": "text/x-python",
   "name": "python",
   "nbconvert_exporter": "python",
   "pygments_lexer": "ipython3",
   "version": "3.11.0"
  }
 },
 "nbformat": 4,
 "nbformat_minor": 5
}
