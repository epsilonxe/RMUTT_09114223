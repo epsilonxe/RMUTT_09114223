{
 "cells": [
  {
   "cell_type": "code",
   "execution_count": 60,
   "id": "b7d3eeca",
   "metadata": {},
   "outputs": [
    {
     "ename": "SyntaxError",
     "evalue": "invalid syntax (1536381339.py, line 2)",
     "output_type": "error",
     "traceback": [
      "\u001b[0;36m  File \u001b[0;32m\"/var/folders/d1/r7rwb7dx3nzbm5pb0tlf2h_40000gn/T/ipykernel_3657/1536381339.py\"\u001b[0;36m, line \u001b[0;32m2\u001b[0m\n\u001b[0;31m    from matplotlib.pyplot as plt\u001b[0m\n\u001b[0m                           ^\u001b[0m\n\u001b[0;31mSyntaxError\u001b[0m\u001b[0;31m:\u001b[0m invalid syntax\n"
     ]
    }
   ],
   "source": [
    "import numpy as np\n",
    "import matplotlib.pyplot as plt\n",
    "\n",
    "N0 = 0\n",
    "Y0 = 0\n",
    "A0 = 1000\n",
    "\n",
    "time = 10\n",
    "\n",
    "X0 = np.array([[N0, Y0, A0]]).T\n",
    "K = np.array([ [0, 0, 0.3], [0.9, 0, 0], [0, 0.8, 0.5] ])\n",
    "\n",
    "Z = np.zeros((time+1, 3, 1))\n",
    "Z[0] = X0\n",
    "for i in range(time):\n",
    "    X_now = Z[i]\n",
    "    X_new = np.matmul(K, X_now)\n",
    "    Z[i+1] = X_new\n",
    "Z\n"
   ]
  },
  {
   "cell_type": "code",
   "execution_count": 42,
   "id": "aa993c59",
   "metadata": {},
   "outputs": [
    {
     "data": {
      "text/plain": [
       "array([[  0.       ],\n",
       "       [300.       ],\n",
       "       [150.       ],\n",
       "       [ 75.       ],\n",
       "       [102.3      ],\n",
       "       [ 83.55     ],\n",
       "       [ 57.975    ],\n",
       "       [ 51.0843   ],\n",
       "       [ 43.58895  ],\n",
       "       [ 34.317075 ],\n",
       "       [ 28.1927463]])"
      ]
     },
     "execution_count": 42,
     "metadata": {},
     "output_type": "execute_result"
    }
   ],
   "source": [
    "N = Z[:,0,:]\n",
    "N"
   ]
  },
  {
   "cell_type": "code",
   "execution_count": 43,
   "id": "525fbf08",
   "metadata": {},
   "outputs": [
    {
     "data": {
      "text/plain": [
       "array([[  0.       ],\n",
       "       [  0.       ],\n",
       "       [270.       ],\n",
       "       [135.       ],\n",
       "       [ 67.5      ],\n",
       "       [ 92.07     ],\n",
       "       [ 75.195    ],\n",
       "       [ 52.1775   ],\n",
       "       [ 45.97587  ],\n",
       "       [ 39.230055 ],\n",
       "       [ 30.8853675]])"
      ]
     },
     "execution_count": 43,
     "metadata": {},
     "output_type": "execute_result"
    }
   ],
   "source": [
    "Y = Z[:, 1, :]\n",
    "Y"
   ]
  },
  {
   "cell_type": "code",
   "execution_count": 44,
   "id": "ec6c06c2",
   "metadata": {},
   "outputs": [
    {
     "data": {
      "text/plain": [
       "array([[1000.       ],\n",
       "       [ 500.       ],\n",
       "       [ 250.       ],\n",
       "       [ 341.       ],\n",
       "       [ 278.5      ],\n",
       "       [ 193.25     ],\n",
       "       [ 170.281    ],\n",
       "       [ 145.2965   ],\n",
       "       [ 114.39025  ],\n",
       "       [  93.975821 ],\n",
       "       [  78.3719545]])"
      ]
     },
     "execution_count": 44,
     "metadata": {},
     "output_type": "execute_result"
    }
   ],
   "source": [
    "A = Z[:, 2, :]\n",
    "A"
   ]
  },
  {
   "cell_type": "code",
   "execution_count": 59,
   "id": "e01313f5",
   "metadata": {},
   "outputs": [
    {
     "ename": "NameError",
     "evalue": "name 'plt' is not defined",
     "output_type": "error",
     "traceback": [
      "\u001b[0;31m---------------------------------------------------------------------------\u001b[0m",
      "\u001b[0;31mNameError\u001b[0m                                 Traceback (most recent call last)",
      "\u001b[0;32m/var/folders/d1/r7rwb7dx3nzbm5pb0tlf2h_40000gn/T/ipykernel_3657/3740436135.py\u001b[0m in \u001b[0;36m<module>\u001b[0;34m\u001b[0m\n\u001b[1;32m      2\u001b[0m \u001b[0mTIME\u001b[0m\u001b[0;34m\u001b[0m\u001b[0;34m\u001b[0m\u001b[0m\n\u001b[1;32m      3\u001b[0m \u001b[0;34m\u001b[0m\u001b[0m\n\u001b[0;32m----> 4\u001b[0;31m \u001b[0mplt\u001b[0m\u001b[0;34m.\u001b[0m\u001b[0mplot\u001b[0m\u001b[0;34m(\u001b[0m\u001b[0mTIME\u001b[0m\u001b[0;34m,\u001b[0m \u001b[0mN\u001b[0m\u001b[0;34m)\u001b[0m\u001b[0;34m\u001b[0m\u001b[0;34m\u001b[0m\u001b[0m\n\u001b[0m",
      "\u001b[0;31mNameError\u001b[0m: name 'plt' is not defined"
     ]
    }
   ],
   "source": [
    "TIME = np.linspace(0, time, num=time+1).T\n",
    "TIME\n",
    "\n",
    "plt.plot(TIME, N)"
   ]
  },
  {
   "cell_type": "code",
   "execution_count": 13,
   "id": "afdd57a9",
   "metadata": {},
   "outputs": [
    {
     "data": {
      "text/plain": [
       "array([[   0],\n",
       "       [   0],\n",
       "       [1000]])"
      ]
     },
     "execution_count": 13,
     "metadata": {},
     "output_type": "execute_result"
    }
   ],
   "source": [
    "X0"
   ]
  },
  {
   "cell_type": "code",
   "execution_count": null,
   "id": "88dd77e9",
   "metadata": {},
   "outputs": [],
   "source": []
  },
  {
   "cell_type": "code",
   "execution_count": 14,
   "id": "d24986b8",
   "metadata": {},
   "outputs": [
    {
     "data": {
      "text/plain": [
       "array([[0. , 0. , 0.3],\n",
       "       [0.9, 0. , 0. ],\n",
       "       [0. , 0.8, 0.5]])"
      ]
     },
     "execution_count": 14,
     "metadata": {},
     "output_type": "execute_result"
    }
   ],
   "source": [
    "K"
   ]
  },
  {
   "cell_type": "code",
   "execution_count": 15,
   "id": "1ebeb587",
   "metadata": {},
   "outputs": [],
   "source": [
    "X1 = np.matmul(K, X0)"
   ]
  },
  {
   "cell_type": "code",
   "execution_count": 16,
   "id": "63fe3525",
   "metadata": {},
   "outputs": [
    {
     "data": {
      "text/plain": [
       "array([[300.],\n",
       "       [  0.],\n",
       "       [500.]])"
      ]
     },
     "execution_count": 16,
     "metadata": {},
     "output_type": "execute_result"
    }
   ],
   "source": [
    "X1"
   ]
  },
  {
   "cell_type": "code",
   "execution_count": 17,
   "id": "7949c50f",
   "metadata": {},
   "outputs": [],
   "source": [
    "X2 = np.matmul(K, X1)"
   ]
  },
  {
   "cell_type": "code",
   "execution_count": 18,
   "id": "6649b0ca",
   "metadata": {},
   "outputs": [
    {
     "data": {
      "text/plain": [
       "array([[150.],\n",
       "       [270.],\n",
       "       [250.]])"
      ]
     },
     "execution_count": 18,
     "metadata": {},
     "output_type": "execute_result"
    }
   ],
   "source": [
    "X2"
   ]
  },
  {
   "cell_type": "code",
   "execution_count": 19,
   "id": "b2f9f135",
   "metadata": {},
   "outputs": [],
   "source": [
    "X3 = np.matmul(K, X2)"
   ]
  },
  {
   "cell_type": "code",
   "execution_count": 20,
   "id": "0e8da39f",
   "metadata": {},
   "outputs": [
    {
     "data": {
      "text/plain": [
       "array([[ 75.],\n",
       "       [135.],\n",
       "       [341.]])"
      ]
     },
     "execution_count": 20,
     "metadata": {},
     "output_type": "execute_result"
    }
   ],
   "source": [
    "X3"
   ]
  },
  {
   "cell_type": "code",
   "execution_count": 30,
   "id": "6c25aa86",
   "metadata": {},
   "outputs": [],
   "source": [
    "Z = np.zeros((10,3,1))"
   ]
  },
  {
   "cell_type": "code",
   "execution_count": 31,
   "id": "37b6dacf",
   "metadata": {},
   "outputs": [
    {
     "data": {
      "text/plain": [
       "array([[[0.],\n",
       "        [0.],\n",
       "        [0.]],\n",
       "\n",
       "       [[0.],\n",
       "        [0.],\n",
       "        [0.]],\n",
       "\n",
       "       [[0.],\n",
       "        [0.],\n",
       "        [0.]],\n",
       "\n",
       "       [[0.],\n",
       "        [0.],\n",
       "        [0.]],\n",
       "\n",
       "       [[0.],\n",
       "        [0.],\n",
       "        [0.]],\n",
       "\n",
       "       [[0.],\n",
       "        [0.],\n",
       "        [0.]],\n",
       "\n",
       "       [[0.],\n",
       "        [0.],\n",
       "        [0.]],\n",
       "\n",
       "       [[0.],\n",
       "        [0.],\n",
       "        [0.]],\n",
       "\n",
       "       [[0.],\n",
       "        [0.],\n",
       "        [0.]],\n",
       "\n",
       "       [[0.],\n",
       "        [0.],\n",
       "        [0.]]])"
      ]
     },
     "execution_count": 31,
     "metadata": {},
     "output_type": "execute_result"
    }
   ],
   "source": [
    "Z"
   ]
  },
  {
   "cell_type": "code",
   "execution_count": 32,
   "id": "6379cee0",
   "metadata": {},
   "outputs": [],
   "source": [
    "Z[0] = X0"
   ]
  },
  {
   "cell_type": "code",
   "execution_count": 33,
   "id": "9f525c7b",
   "metadata": {},
   "outputs": [
    {
     "data": {
      "text/plain": [
       "array([[[   0.],\n",
       "        [   0.],\n",
       "        [1000.]],\n",
       "\n",
       "       [[   0.],\n",
       "        [   0.],\n",
       "        [   0.]],\n",
       "\n",
       "       [[   0.],\n",
       "        [   0.],\n",
       "        [   0.]],\n",
       "\n",
       "       [[   0.],\n",
       "        [   0.],\n",
       "        [   0.]],\n",
       "\n",
       "       [[   0.],\n",
       "        [   0.],\n",
       "        [   0.]],\n",
       "\n",
       "       [[   0.],\n",
       "        [   0.],\n",
       "        [   0.]],\n",
       "\n",
       "       [[   0.],\n",
       "        [   0.],\n",
       "        [   0.]],\n",
       "\n",
       "       [[   0.],\n",
       "        [   0.],\n",
       "        [   0.]],\n",
       "\n",
       "       [[   0.],\n",
       "        [   0.],\n",
       "        [   0.]],\n",
       "\n",
       "       [[   0.],\n",
       "        [   0.],\n",
       "        [   0.]]])"
      ]
     },
     "execution_count": 33,
     "metadata": {},
     "output_type": "execute_result"
    }
   ],
   "source": [
    "Z"
   ]
  },
  {
   "cell_type": "code",
   "execution_count": 35,
   "id": "e5a1f800",
   "metadata": {},
   "outputs": [
    {
     "data": {
      "text/plain": [
       "array([[[   0.      ],\n",
       "        [   0.      ],\n",
       "        [1000.      ]],\n",
       "\n",
       "       [[ 300.      ],\n",
       "        [   0.      ],\n",
       "        [ 500.      ]],\n",
       "\n",
       "       [[ 150.      ],\n",
       "        [ 270.      ],\n",
       "        [ 250.      ]],\n",
       "\n",
       "       [[  75.      ],\n",
       "        [ 135.      ],\n",
       "        [ 341.      ]],\n",
       "\n",
       "       [[ 102.3     ],\n",
       "        [  67.5     ],\n",
       "        [ 278.5     ]],\n",
       "\n",
       "       [[  83.55    ],\n",
       "        [  92.07    ],\n",
       "        [ 193.25    ]],\n",
       "\n",
       "       [[  57.975   ],\n",
       "        [  75.195   ],\n",
       "        [ 170.281   ]],\n",
       "\n",
       "       [[  51.0843  ],\n",
       "        [  52.1775  ],\n",
       "        [ 145.2965  ]],\n",
       "\n",
       "       [[  43.58895 ],\n",
       "        [  45.97587 ],\n",
       "        [ 114.39025 ]],\n",
       "\n",
       "       [[  34.317075],\n",
       "        [  39.230055],\n",
       "        [  93.975821]]])"
      ]
     },
     "execution_count": 35,
     "metadata": {},
     "output_type": "execute_result"
    }
   ],
   "source": [
    "time = 9\n",
    "for i in range(time):\n",
    "    X_now = Z[i]\n",
    "    X_new = np.matmul(K, X_now)\n",
    "    Z[i+1] = X_new\n",
    "Z"
   ]
  },
  {
   "cell_type": "code",
   "execution_count": null,
   "id": "3bc377e3",
   "metadata": {},
   "outputs": [],
   "source": []
  }
 ],
 "metadata": {
  "kernelspec": {
   "display_name": "Python 3 (ipykernel)",
   "language": "python",
   "name": "python3"
  },
  "language_info": {
   "codemirror_mode": {
    "name": "ipython",
    "version": 3
   },
   "file_extension": ".py",
   "mimetype": "text/x-python",
   "name": "python",
   "nbconvert_exporter": "python",
   "pygments_lexer": "ipython3",
   "version": "3.9.9"
  }
 },
 "nbformat": 4,
 "nbformat_minor": 5
}
